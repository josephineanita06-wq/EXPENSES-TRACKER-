{
 "cells": [
  {
   "cell_type": "markdown",
   "id": "4e0b82fc-4d20-4e56-997a-05176d962c50",
   "metadata": {},
   "source": [
    "### PERSONAL TRACKER"
   ]
  },
  {
   "cell_type": "markdown",
   "id": "d7060a0f-ab46-4715-8db9-88b05f488024",
   "metadata": {},
   "source": [
    "### What are we trackling here?"
   ]
  },
  {
   "cell_type": "code",
   "execution_count": 1,
   "id": "231c6619-ddd3-49f3-a721-73ca7156878a",
   "metadata": {},
   "outputs": [],
   "source": [
    "## creating variable"
   ]
  },
  {
   "cell_type": "code",
   "execution_count": 2,
   "id": "585d6428-dac4-48be-a341-a7ec3abafd7b",
   "metadata": {},
   "outputs": [],
   "source": [
    "user=\"Anita\" #str\n",
    "current_month=\"August 28,2025\" #str\n",
    "budget= 700.00 #£\n",
    "number_of_days= 31 #int\n",
    "is_budget_set= True"
   ]
  },
  {
   "cell_type": "code",
   "execution_count": 3,
   "id": "0a585d17-15e6-4fe8-a91f-c46e9ddfe513",
   "metadata": {},
   "outputs": [
    {
     "name": "stdout",
     "output_type": "stream",
     "text": [
      "The budget for August 28,2025 is £ 700.0\n"
     ]
    }
   ],
   "source": [
    "print(\"The budget for\",current_month,\"is\",\"£\",budget)"
   ]
  },
  {
   "cell_type": "markdown",
   "id": "1fb4c21d-2b14-4dea-8bf7-103795610b3c",
   "metadata": {},
   "source": [
    "## A SINGLE EXPENSE"
   ]
  },
  {
   "cell_type": "code",
   "execution_count": 4,
   "id": "5a7b7451-cdbb-4c92-bddb-441dfd34e6e5",
   "metadata": {},
   "outputs": [],
   "source": [
    "item=(\"Rent\")\n",
    "amount=200.00\n",
    "category=\"Housing\"\n",
    "is_necessary= True"
   ]
  },
  {
   "cell_type": "markdown",
   "id": "f33beb30-0eb8-4532-9992-1e7ee2af7b50",
   "metadata": {},
   "source": [
    "## Multiple items"
   ]
  },
  {
   "cell_type": "code",
   "execution_count": 30,
   "id": "91e11801-5ab0-4a17-ad22-cd549758cd14",
   "metadata": {},
   "outputs": [],
   "source": [
    "items=('Rent',\n",
    "       'car',\n",
    "       'electricity',\n",
    "       'entertainment',\n",
    "       'utensils',\n",
    "       'water',\n",
    "       'detergent')       \n",
    "amount=(200.00,300.00,10.00,20.00,50.00,70.00,15.00)\n",
    "category=('Housing','luxury','utility','luxury','necessity','utility','cleaning')\n",
    "is_necessary=True"
   ]
  },
  {
   "cell_type": "code",
   "execution_count": 41,
   "id": "1c34c17d-c25f-48a2-b4ac-21d312667289",
   "metadata": {},
   "outputs": [],
   "source": [
    "closing_balance=budget-total_expeneses"
   ]
  },
  {
   "cell_type": "code",
   "execution_count": 42,
   "id": "b72af42d-1447-4879-bdbd-0a675e03fdb5",
   "metadata": {},
   "outputs": [],
   "source": [
    "total_expeneses=sum(amount)"
   ]
  },
  {
   "cell_type": "code",
   "execution_count": 43,
   "id": "2aa880ce-2880-46bc-b28a-8e6581330463",
   "metadata": {},
   "outputs": [
    {
     "name": "stdout",
     "output_type": "stream",
     "text": [
      "665.0\n"
     ]
    }
   ],
   "source": [
    "print(total_expeneses)"
   ]
  },
  {
   "cell_type": "code",
   "execution_count": 44,
   "id": "9f5a2d36-43ff-44fe-b156-0fdadc5aaefc",
   "metadata": {},
   "outputs": [],
   "source": [
    "greetings='Thanks for coming, Have a great day!!'"
   ]
  },
  {
   "cell_type": "code",
   "execution_count": 45,
   "id": "360e8730-5154-48e7-94e6-811d2001f7e8",
   "metadata": {},
   "outputs": [
    {
     "name": "stdout",
     "output_type": "stream",
     "text": [
      "===================================\n",
      "         EXPENSE DASHBOARD\n",
      "===================================\n",
      "Owner              Anita\n",
      "Type of item       Rent\n",
      "Category of item   Housing\n",
      "-----------------------------------\n",
      "Budgetted Amount   700.0\n",
      "Cost of item       665.0\n",
      "___________________________________\n",
      "closing balance    35.0\n",
      "-----------------------------------\n",
      "Thanks for coming, Have a great day!!\n",
      "___________________________________\n"
     ]
    }
   ],
   "source": [
    "print('='*35)\n",
    "print(\"         EXPENSE DASHBOARD\")\n",
    "print('='*35)\n",
    "print(\"Owner\",\"            \",user)\n",
    "print(\"Type of item\",\"     \",item)\n",
    "print(\"Category of item\",\" \",category[0])\n",
    "print('-'*35)\n",
    "print(\"Budgetted Amount\",\" \",budget)\n",
    "print(\"Cost of item\",\"     \",total_expeneses)\n",
    "print('_'*35)\n",
    "print(\"closing balance\",\"  \",closing_balance)\n",
    "print('-'*35)\n",
    "print(greetings)\n",
    "print('_'*35)"
   ]
  },
  {
   "cell_type": "code",
   "execution_count": null,
   "id": "30748a9d-d1b4-4e0a-9006-913af0ac2876",
   "metadata": {},
   "outputs": [],
   "source": []
  },
  {
   "cell_type": "code",
   "execution_count": null,
   "id": "6c74fce5-c564-48cb-8886-62be37e9e980",
   "metadata": {},
   "outputs": [],
   "source": []
  },
  {
   "cell_type": "code",
   "execution_count": null,
   "id": "338002d9-43e2-4ea2-b443-410aadd85f88",
   "metadata": {},
   "outputs": [],
   "source": []
  }
 ],
 "metadata": {
  "kernelspec": {
   "display_name": "Python 3 (ipykernel)",
   "language": "python",
   "name": "python3"
  },
  "language_info": {
   "codemirror_mode": {
    "name": "ipython",
    "version": 3
   },
   "file_extension": ".py",
   "mimetype": "text/x-python",
   "name": "python",
   "nbconvert_exporter": "python",
   "pygments_lexer": "ipython3",
   "version": "3.12.11"
  }
 },
 "nbformat": 4,
 "nbformat_minor": 5
}
